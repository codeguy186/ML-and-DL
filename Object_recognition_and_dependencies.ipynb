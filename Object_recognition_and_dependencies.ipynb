{
  "nbformat": 4,
  "nbformat_minor": 0,
  "metadata": {
    "colab": {
      "name": "Object recognition and dependencies.ipynb",
      "provenance": [],
      "collapsed_sections": [],
      "authorship_tag": "ABX9TyP3W7KnbTzHTcri6pAYOhSy",
      "include_colab_link": true
    },
    "kernelspec": {
      "name": "python3",
      "display_name": "Python 3"
    },
    "language_info": {
      "name": "python"
    }
  },
  "cells": [
    {
      "cell_type": "markdown",
      "metadata": {
        "id": "view-in-github",
        "colab_type": "text"
      },
      "source": [
        "<a href=\"https://colab.research.google.com/github/codeguy186/ML-and-DL/blob/main/Object_recognition_and_dependencies.ipynb\" target=\"_parent\"><img src=\"https://colab.research.google.com/assets/colab-badge.svg\" alt=\"Open In Colab\"/></a>"
      ]
    },
    {
      "cell_type": "code",
      "execution_count": 55,
      "metadata": {
        "id": "s-QyEf2_E59N"
      },
      "outputs": [],
      "source": [
        "import spacy\n",
        "from spacy import displacy\n",
        "import en_core_web_sm"
      ]
    },
    {
      "cell_type": "code",
      "source": [
        "import nltk\n",
        "nltk.download('punkt')"
      ],
      "metadata": {
        "colab": {
          "base_uri": "https://localhost:8080/"
        },
        "id": "5zz2RAg-Fv5M",
        "outputId": "4b5da60c-26fa-4543-afae-c6ffede7b5ef"
      },
      "execution_count": 56,
      "outputs": [
        {
          "output_type": "stream",
          "name": "stdout",
          "text": [
            "[nltk_data] Downloading package punkt to /root/nltk_data...\n",
            "[nltk_data]   Package punkt is already up-to-date!\n"
          ]
        },
        {
          "output_type": "execute_result",
          "data": {
            "text/plain": [
              "True"
            ]
          },
          "metadata": {},
          "execution_count": 56
        }
      ]
    },
    {
      "cell_type": "code",
      "source": [
        "nltk.download('averaged_perceptron_tagger')\n",
        "nltk.download('tagsets')\n",
        "from nltk import pos_tag"
      ],
      "metadata": {
        "colab": {
          "base_uri": "https://localhost:8080/"
        },
        "id": "D1FvPupbIMAZ",
        "outputId": "79f9b89c-2271-4f11-e672-dc091a6e596c"
      },
      "execution_count": 57,
      "outputs": [
        {
          "output_type": "stream",
          "name": "stdout",
          "text": [
            "[nltk_data] Downloading package averaged_perceptron_tagger to\n",
            "[nltk_data]     /root/nltk_data...\n",
            "[nltk_data]   Package averaged_perceptron_tagger is already up-to-\n",
            "[nltk_data]       date!\n",
            "[nltk_data] Downloading package tagsets to /root/nltk_data...\n",
            "[nltk_data]   Package tagsets is already up-to-date!\n"
          ]
        }
      ]
    },
    {
      "cell_type": "markdown",
      "source": [
        "#METHOD 1(Includes adjectives):"
      ],
      "metadata": {
        "id": "itCKRY0QyRnR"
      }
    },
    {
      "cell_type": "code",
      "source": [
        "\n",
        "!pip3 install word2number\n",
        "from word2number import w2n\n",
        "\n",
        "\n",
        "#Importing spacy's pretrained model\n",
        "nlp = spacy.load(\"en_core_web_sm\")\n",
        "\n",
        "sentence = 'I need 7 small chairs and fifteen big tables.'\n",
        "\n",
        "doc = nlp(sentence)\n",
        "w=nltk.word_tokenize(sentence)\n",
        "s=pos_tag(w)\n",
        "\n",
        "\n",
        "print(\"The objects are:\")\n",
        "for i in s:\n",
        "  if i[1]=='NNS' or i[1]=='NN' :\n",
        "      print(\"--> \"+i[0])\n",
        "\n",
        "print(\"The entities are:\")\n",
        "for ent in doc.ents:\n",
        "    print(\"--> \"+ent.text+\" , label: \"+ent.label_)\n",
        "print (\"{:<15} | {:<8} | {:<15}\".format('Objects with association','Relation','Adjective/Number/Order'))\n",
        "print (\"-\" * 50)\n",
        "\n",
        "for token in doc:\n",
        "  # Print the token, dependency nature, head and adjectives and numerals of the token\n",
        "   if (token.dep_ =='amod'):\n",
        "    print (\"{:<23} | {:<8} | {:<15}\".format(str(token.head.text), str(token.dep_), str(token.text)))\n",
        "   if(token.dep_=='nummod'):\n",
        "    print(\"{:<23} | {:<8} | {:<15}\".format(str(token.head.text), str(token.dep_), str(w2n.word_to_num(token.text))))\n",
        " # Using displaycy to visualize the dependency \n",
        "print(\"-\"*50)\n",
        "print(\"Dependencies image:\")\n",
        "displacy.render(doc, style='dep', jupyter=True, options={'distance': 120})\n"
      ],
      "metadata": {
        "colab": {
          "base_uri": "https://localhost:8080/",
          "height": 659
        },
        "id": "lD6yXhZ7bhYF",
        "outputId": "cdd29f1b-c9fa-4c85-c0ae-5c3fe522c966"
      },
      "execution_count": 61,
      "outputs": [
        {
          "output_type": "stream",
          "name": "stdout",
          "text": [
            "Requirement already satisfied: word2number in /usr/local/lib/python3.7/dist-packages (1.1)\n",
            "The objects are:\n",
            "--> chairs\n",
            "--> tables\n",
            "The entities are:\n",
            "--> 7 , label: CARDINAL\n",
            "--> fifteen , label: CARDINAL\n",
            "Objects with association | Relation | Adjective/Number/Order\n",
            "--------------------------------------------------\n",
            "chairs                  | nummod   | 7              \n",
            "chairs                  | amod     | small          \n",
            "tables                  | nummod   | 15             \n",
            "tables                  | amod     | big            \n",
            "--------------------------------------------------\n",
            "Dependencies image:\n"
          ]
        },
        {
          "output_type": "display_data",
          "data": {
            "text/html": [
              "<span class=\"tex2jax_ignore\"><svg xmlns=\"http://www.w3.org/2000/svg\" xmlns:xlink=\"http://www.w3.org/1999/xlink\" xml:lang=\"en\" id=\"5b1c20dd78c64767bbc2fb5ab4914bc2-0\" class=\"displacy\" width=\"1130\" height=\"377.0\" direction=\"ltr\" style=\"max-width: none; height: 377.0px; color: #000000; background: #ffffff; font-family: Arial; direction: ltr\">\n",
              "<text class=\"displacy-token\" fill=\"currentColor\" text-anchor=\"middle\" y=\"287.0\">\n",
              "    <tspan class=\"displacy-word\" fill=\"currentColor\" x=\"50\">I</tspan>\n",
              "    <tspan class=\"displacy-tag\" dy=\"2em\" fill=\"currentColor\" x=\"50\">PRON</tspan>\n",
              "</text>\n",
              "\n",
              "<text class=\"displacy-token\" fill=\"currentColor\" text-anchor=\"middle\" y=\"287.0\">\n",
              "    <tspan class=\"displacy-word\" fill=\"currentColor\" x=\"170\">need</tspan>\n",
              "    <tspan class=\"displacy-tag\" dy=\"2em\" fill=\"currentColor\" x=\"170\">VERB</tspan>\n",
              "</text>\n",
              "\n",
              "<text class=\"displacy-token\" fill=\"currentColor\" text-anchor=\"middle\" y=\"287.0\">\n",
              "    <tspan class=\"displacy-word\" fill=\"currentColor\" x=\"290\">7</tspan>\n",
              "    <tspan class=\"displacy-tag\" dy=\"2em\" fill=\"currentColor\" x=\"290\">NUM</tspan>\n",
              "</text>\n",
              "\n",
              "<text class=\"displacy-token\" fill=\"currentColor\" text-anchor=\"middle\" y=\"287.0\">\n",
              "    <tspan class=\"displacy-word\" fill=\"currentColor\" x=\"410\">small</tspan>\n",
              "    <tspan class=\"displacy-tag\" dy=\"2em\" fill=\"currentColor\" x=\"410\">ADJ</tspan>\n",
              "</text>\n",
              "\n",
              "<text class=\"displacy-token\" fill=\"currentColor\" text-anchor=\"middle\" y=\"287.0\">\n",
              "    <tspan class=\"displacy-word\" fill=\"currentColor\" x=\"530\">chairs</tspan>\n",
              "    <tspan class=\"displacy-tag\" dy=\"2em\" fill=\"currentColor\" x=\"530\">NOUN</tspan>\n",
              "</text>\n",
              "\n",
              "<text class=\"displacy-token\" fill=\"currentColor\" text-anchor=\"middle\" y=\"287.0\">\n",
              "    <tspan class=\"displacy-word\" fill=\"currentColor\" x=\"650\">and</tspan>\n",
              "    <tspan class=\"displacy-tag\" dy=\"2em\" fill=\"currentColor\" x=\"650\">CCONJ</tspan>\n",
              "</text>\n",
              "\n",
              "<text class=\"displacy-token\" fill=\"currentColor\" text-anchor=\"middle\" y=\"287.0\">\n",
              "    <tspan class=\"displacy-word\" fill=\"currentColor\" x=\"770\">fifteen</tspan>\n",
              "    <tspan class=\"displacy-tag\" dy=\"2em\" fill=\"currentColor\" x=\"770\">NUM</tspan>\n",
              "</text>\n",
              "\n",
              "<text class=\"displacy-token\" fill=\"currentColor\" text-anchor=\"middle\" y=\"287.0\">\n",
              "    <tspan class=\"displacy-word\" fill=\"currentColor\" x=\"890\">big</tspan>\n",
              "    <tspan class=\"displacy-tag\" dy=\"2em\" fill=\"currentColor\" x=\"890\">ADJ</tspan>\n",
              "</text>\n",
              "\n",
              "<text class=\"displacy-token\" fill=\"currentColor\" text-anchor=\"middle\" y=\"287.0\">\n",
              "    <tspan class=\"displacy-word\" fill=\"currentColor\" x=\"1010\">tables.</tspan>\n",
              "    <tspan class=\"displacy-tag\" dy=\"2em\" fill=\"currentColor\" x=\"1010\">NOUN</tspan>\n",
              "</text>\n",
              "\n",
              "<g class=\"displacy-arrow\">\n",
              "    <path class=\"displacy-arc\" id=\"arrow-5b1c20dd78c64767bbc2fb5ab4914bc2-0-0\" stroke-width=\"2px\" d=\"M70,242.0 C70,182.0 155.0,182.0 155.0,242.0\" fill=\"none\" stroke=\"currentColor\"/>\n",
              "    <text dy=\"1.25em\" style=\"font-size: 0.8em; letter-spacing: 1px\">\n",
              "        <textPath xlink:href=\"#arrow-5b1c20dd78c64767bbc2fb5ab4914bc2-0-0\" class=\"displacy-label\" startOffset=\"50%\" side=\"left\" fill=\"currentColor\" text-anchor=\"middle\">nsubj</textPath>\n",
              "    </text>\n",
              "    <path class=\"displacy-arrowhead\" d=\"M70,244.0 L62,232.0 78,232.0\" fill=\"currentColor\"/>\n",
              "</g>\n",
              "\n",
              "<g class=\"displacy-arrow\">\n",
              "    <path class=\"displacy-arc\" id=\"arrow-5b1c20dd78c64767bbc2fb5ab4914bc2-0-1\" stroke-width=\"2px\" d=\"M310,242.0 C310,122.0 520.0,122.0 520.0,242.0\" fill=\"none\" stroke=\"currentColor\"/>\n",
              "    <text dy=\"1.25em\" style=\"font-size: 0.8em; letter-spacing: 1px\">\n",
              "        <textPath xlink:href=\"#arrow-5b1c20dd78c64767bbc2fb5ab4914bc2-0-1\" class=\"displacy-label\" startOffset=\"50%\" side=\"left\" fill=\"currentColor\" text-anchor=\"middle\">nummod</textPath>\n",
              "    </text>\n",
              "    <path class=\"displacy-arrowhead\" d=\"M310,244.0 L302,232.0 318,232.0\" fill=\"currentColor\"/>\n",
              "</g>\n",
              "\n",
              "<g class=\"displacy-arrow\">\n",
              "    <path class=\"displacy-arc\" id=\"arrow-5b1c20dd78c64767bbc2fb5ab4914bc2-0-2\" stroke-width=\"2px\" d=\"M430,242.0 C430,182.0 515.0,182.0 515.0,242.0\" fill=\"none\" stroke=\"currentColor\"/>\n",
              "    <text dy=\"1.25em\" style=\"font-size: 0.8em; letter-spacing: 1px\">\n",
              "        <textPath xlink:href=\"#arrow-5b1c20dd78c64767bbc2fb5ab4914bc2-0-2\" class=\"displacy-label\" startOffset=\"50%\" side=\"left\" fill=\"currentColor\" text-anchor=\"middle\">amod</textPath>\n",
              "    </text>\n",
              "    <path class=\"displacy-arrowhead\" d=\"M430,244.0 L422,232.0 438,232.0\" fill=\"currentColor\"/>\n",
              "</g>\n",
              "\n",
              "<g class=\"displacy-arrow\">\n",
              "    <path class=\"displacy-arc\" id=\"arrow-5b1c20dd78c64767bbc2fb5ab4914bc2-0-3\" stroke-width=\"2px\" d=\"M190,242.0 C190,62.0 525.0,62.0 525.0,242.0\" fill=\"none\" stroke=\"currentColor\"/>\n",
              "    <text dy=\"1.25em\" style=\"font-size: 0.8em; letter-spacing: 1px\">\n",
              "        <textPath xlink:href=\"#arrow-5b1c20dd78c64767bbc2fb5ab4914bc2-0-3\" class=\"displacy-label\" startOffset=\"50%\" side=\"left\" fill=\"currentColor\" text-anchor=\"middle\">dobj</textPath>\n",
              "    </text>\n",
              "    <path class=\"displacy-arrowhead\" d=\"M525.0,244.0 L533.0,232.0 517.0,232.0\" fill=\"currentColor\"/>\n",
              "</g>\n",
              "\n",
              "<g class=\"displacy-arrow\">\n",
              "    <path class=\"displacy-arc\" id=\"arrow-5b1c20dd78c64767bbc2fb5ab4914bc2-0-4\" stroke-width=\"2px\" d=\"M550,242.0 C550,182.0 635.0,182.0 635.0,242.0\" fill=\"none\" stroke=\"currentColor\"/>\n",
              "    <text dy=\"1.25em\" style=\"font-size: 0.8em; letter-spacing: 1px\">\n",
              "        <textPath xlink:href=\"#arrow-5b1c20dd78c64767bbc2fb5ab4914bc2-0-4\" class=\"displacy-label\" startOffset=\"50%\" side=\"left\" fill=\"currentColor\" text-anchor=\"middle\">cc</textPath>\n",
              "    </text>\n",
              "    <path class=\"displacy-arrowhead\" d=\"M635.0,244.0 L643.0,232.0 627.0,232.0\" fill=\"currentColor\"/>\n",
              "</g>\n",
              "\n",
              "<g class=\"displacy-arrow\">\n",
              "    <path class=\"displacy-arc\" id=\"arrow-5b1c20dd78c64767bbc2fb5ab4914bc2-0-5\" stroke-width=\"2px\" d=\"M790,242.0 C790,122.0 1000.0,122.0 1000.0,242.0\" fill=\"none\" stroke=\"currentColor\"/>\n",
              "    <text dy=\"1.25em\" style=\"font-size: 0.8em; letter-spacing: 1px\">\n",
              "        <textPath xlink:href=\"#arrow-5b1c20dd78c64767bbc2fb5ab4914bc2-0-5\" class=\"displacy-label\" startOffset=\"50%\" side=\"left\" fill=\"currentColor\" text-anchor=\"middle\">nummod</textPath>\n",
              "    </text>\n",
              "    <path class=\"displacy-arrowhead\" d=\"M790,244.0 L782,232.0 798,232.0\" fill=\"currentColor\"/>\n",
              "</g>\n",
              "\n",
              "<g class=\"displacy-arrow\">\n",
              "    <path class=\"displacy-arc\" id=\"arrow-5b1c20dd78c64767bbc2fb5ab4914bc2-0-6\" stroke-width=\"2px\" d=\"M910,242.0 C910,182.0 995.0,182.0 995.0,242.0\" fill=\"none\" stroke=\"currentColor\"/>\n",
              "    <text dy=\"1.25em\" style=\"font-size: 0.8em; letter-spacing: 1px\">\n",
              "        <textPath xlink:href=\"#arrow-5b1c20dd78c64767bbc2fb5ab4914bc2-0-6\" class=\"displacy-label\" startOffset=\"50%\" side=\"left\" fill=\"currentColor\" text-anchor=\"middle\">amod</textPath>\n",
              "    </text>\n",
              "    <path class=\"displacy-arrowhead\" d=\"M910,244.0 L902,232.0 918,232.0\" fill=\"currentColor\"/>\n",
              "</g>\n",
              "\n",
              "<g class=\"displacy-arrow\">\n",
              "    <path class=\"displacy-arc\" id=\"arrow-5b1c20dd78c64767bbc2fb5ab4914bc2-0-7\" stroke-width=\"2px\" d=\"M550,242.0 C550,2.0 1010.0,2.0 1010.0,242.0\" fill=\"none\" stroke=\"currentColor\"/>\n",
              "    <text dy=\"1.25em\" style=\"font-size: 0.8em; letter-spacing: 1px\">\n",
              "        <textPath xlink:href=\"#arrow-5b1c20dd78c64767bbc2fb5ab4914bc2-0-7\" class=\"displacy-label\" startOffset=\"50%\" side=\"left\" fill=\"currentColor\" text-anchor=\"middle\">conj</textPath>\n",
              "    </text>\n",
              "    <path class=\"displacy-arrowhead\" d=\"M1010.0,244.0 L1018.0,232.0 1002.0,232.0\" fill=\"currentColor\"/>\n",
              "</g>\n",
              "</svg></span>"
            ],
            "text/plain": [
              "<IPython.core.display.HTML object>"
            ]
          },
          "metadata": {}
        }
      ]
    },
    {
      "cell_type": "markdown",
      "source": [
        "METHOD 2:"
      ],
      "metadata": {
        "id": "Fz4MFBfnyqwR"
      }
    },
    {
      "cell_type": "code",
      "source": [
        "nlp = spacy.load(\"en_core_web_sm\")\n",
        "\n",
        "\n",
        "sents = ['I need 15 tables and seven chairs',\n",
        "         'i have 10 potatoes and 3 apples', 'i have 100 black pens and three pencils', 'He has 10 million sharpeners and 3 billion erasers']\n",
        "\n",
        "\n",
        "def getQuantity(doc, token):\n",
        "    for toks in token.lefts:\n",
        "        if toks.dep_ == 'nummod' and doc[toks.i-1].dep_ != 'compound':\n",
        "            print(\"Quantity: \", w2n.word_to_num(toks.text))\n",
        "        if toks.dep_=='nummod' and doc[toks.i-1].dep_ == 'compound':\n",
        "            print(\"Quantity: \", w2n.word_to_num(doc[toks.i-1].text)*w2n.word_to_num(toks.text))\n",
        "            return (doc[toks.i-1].text+doc[toks.i].text, token.text)\n",
        "\n",
        "        return (doc[toks.i].text, token.text)\n",
        "\n",
        "for sent in sents:\n",
        "    doc = nlp(sent)\n",
        "    deps = [(token.text, token.dep_, token.n_lefts)\n",
        "            for token in doc]\n",
        "    pos = [(token.text, token.pos, token.n_lefts)\n",
        "           for token in doc]\n",
        "    ents = [(token.text, token.ent_type_, token.n_lefts)\n",
        "            for token in doc]\n",
        "    #print(deps, pos, ents, sep=\"\\n\", end=\"\\n\\n\\n\")\n",
        "    objects = [token for token in doc if token.pos == 92]\n",
        "    #print(objects)\n",
        "    quant = []\n",
        "    for token in doc:\n",
        "        if token in objects:\n",
        "            quant.append(getQuantity(doc, token))\n",
        "            \n",
        "    print(quant)\n",
        "    \n",
        "    print(\"=\"*50)"
      ],
      "metadata": {
        "colab": {
          "base_uri": "https://localhost:8080/"
        },
        "id": "bheafZHcUVma",
        "outputId": "34263764-5fcc-4d79-d7cb-2ad88c2d7f5f"
      },
      "execution_count": 66,
      "outputs": [
        {
          "output_type": "stream",
          "name": "stdout",
          "text": [
            "Quantity:  15\n",
            "Quantity:  7\n",
            "[('15', 'tables'), ('seven', 'chairs')]\n",
            "==================================================\n",
            "Quantity:  10\n",
            "Quantity:  3\n",
            "[('10', 'potatoes'), ('3', 'apples')]\n",
            "==================================================\n",
            "Quantity:  100\n",
            "Quantity:  3\n",
            "[('100', 'pens'), ('three', 'pencils')]\n",
            "==================================================\n",
            "Quantity:  10000000\n",
            "Quantity:  3000000000\n",
            "[('10million', 'sharpeners'), ('3billion', 'erasers')]\n",
            "==================================================\n"
          ]
        }
      ]
    },
    {
      "cell_type": "code",
      "source": [
        ""
      ],
      "metadata": {
        "id": "MzCBeUnlUcc5"
      },
      "execution_count": 59,
      "outputs": []
    }
  ]
}