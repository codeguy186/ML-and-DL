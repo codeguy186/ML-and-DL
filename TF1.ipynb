{
  "nbformat": 4,
  "nbformat_minor": 0,
  "metadata": {
    "colab": {
      "name": "TF1.ipynb",
      "provenance": [],
      "collapsed_sections": [],
      "authorship_tag": "ABX9TyPDQYpfcegC+zYjFwViE2+M",
      "include_colab_link": true
    },
    "kernelspec": {
      "name": "python3",
      "display_name": "Python 3"
    },
    "language_info": {
      "name": "python"
    }
  },
  "cells": [
    {
      "cell_type": "markdown",
      "metadata": {
        "id": "view-in-github",
        "colab_type": "text"
      },
      "source": [
        "<a href=\"https://colab.research.google.com/github/codeguy186/ML-and-DL/blob/main/TF1.ipynb\" target=\"_parent\"><img src=\"https://colab.research.google.com/assets/colab-badge.svg\" alt=\"Open In Colab\"/></a>"
      ]
    },
    {
      "cell_type": "markdown",
      "metadata": {
        "id": "jYWQs_F8wmQ_"
      },
      "source": [
        "MAKING TENSORS|\n",
        "MANIPULATING TENSORS|\n",
        "GETTING INFO FROM TENSORS.\n"
      ]
    },
    {
      "cell_type": "code",
      "metadata": {
        "colab": {
          "base_uri": "https://localhost:8080/"
        },
        "id": "W-8hMjL-wlup",
        "outputId": "c48c6c3f-3821-417d-828e-3309cf6231ff"
      },
      "source": [
        "#Import Tensorflow\n",
        "import tensorflow as tf\n",
        "print(tf.__version__)"
      ],
      "execution_count": null,
      "outputs": [
        {
          "output_type": "stream",
          "name": "stdout",
          "text": [
            "2.6.0\n"
          ]
        }
      ]
    },
    {
      "cell_type": "code",
      "metadata": {
        "colab": {
          "base_uri": "https://localhost:8080/"
        },
        "id": "Rx7fJ2nAxdO4",
        "outputId": "8387567e-3775-4354-e8bf-2ee80ca98337"
      },
      "source": [
        "#Create tensors with tf.constant()\n",
        "scalar=tf.constant(7)\n",
        "scalar"
      ],
      "execution_count": null,
      "outputs": [
        {
          "output_type": "execute_result",
          "data": {
            "text/plain": [
              "<tf.Tensor: shape=(), dtype=int32, numpy=7>"
            ]
          },
          "metadata": {},
          "execution_count": 3
        }
      ]
    },
    {
      "cell_type": "code",
      "metadata": {
        "colab": {
          "base_uri": "https://localhost:8080/"
        },
        "id": "yLhPtqpryM2G",
        "outputId": "1c34f39d-fa9c-4f97-96f2-63eee0e2330a"
      },
      "source": [
        "#check number of dimensions\n",
        "scalar.ndim"
      ],
      "execution_count": null,
      "outputs": [
        {
          "output_type": "execute_result",
          "data": {
            "text/plain": [
              "0"
            ]
          },
          "metadata": {},
          "execution_count": 4
        }
      ]
    },
    {
      "cell_type": "code",
      "metadata": {
        "colab": {
          "base_uri": "https://localhost:8080/"
        },
        "id": "s6ii2sl6yZaV",
        "outputId": "8a20279e-d1e0-448c-b398-8416bb3a9173"
      },
      "source": [
        "#create a vector\n",
        "vector=tf.constant([1,1])\n",
        "vector"
      ],
      "execution_count": null,
      "outputs": [
        {
          "output_type": "execute_result",
          "data": {
            "text/plain": [
              "<tf.Tensor: shape=(2,), dtype=int32, numpy=array([1, 1], dtype=int32)>"
            ]
          },
          "metadata": {},
          "execution_count": 5
        }
      ]
    },
    {
      "cell_type": "code",
      "metadata": {
        "colab": {
          "base_uri": "https://localhost:8080/"
        },
        "id": "lKNHw_NBykQM",
        "outputId": "08f893f3-48d3-419a-ea88-6e3d77b0cdeb"
      },
      "source": [
        "vector.ndim"
      ],
      "execution_count": null,
      "outputs": [
        {
          "output_type": "execute_result",
          "data": {
            "text/plain": [
              "1"
            ]
          },
          "metadata": {},
          "execution_count": 6
        }
      ]
    },
    {
      "cell_type": "code",
      "metadata": {
        "colab": {
          "base_uri": "https://localhost:8080/"
        },
        "id": "ho2AoZLAy0_F",
        "outputId": "11ff2ee1-426c-4e67-b9a1-23cac67090e1"
      },
      "source": [
        "#create a matrix\n",
        "matrix=tf.constant([[1,1],[2,2]])\n",
        "matrix"
      ],
      "execution_count": null,
      "outputs": [
        {
          "output_type": "execute_result",
          "data": {
            "text/plain": [
              "<tf.Tensor: shape=(2, 2), dtype=int32, numpy=\n",
              "array([[1, 1],\n",
              "       [2, 2]], dtype=int32)>"
            ]
          },
          "metadata": {},
          "execution_count": 7
        }
      ]
    },
    {
      "cell_type": "code",
      "metadata": {
        "colab": {
          "base_uri": "https://localhost:8080/"
        },
        "id": "1JDqnBqlzF5k",
        "outputId": "e3527f6b-5660-4929-fb69-c1881591c89e"
      },
      "source": [
        "matrix.ndim"
      ],
      "execution_count": null,
      "outputs": [
        {
          "output_type": "execute_result",
          "data": {
            "text/plain": [
              "2"
            ]
          },
          "metadata": {},
          "execution_count": 8
        }
      ]
    },
    {
      "cell_type": "code",
      "metadata": {
        "colab": {
          "base_uri": "https://localhost:8080/"
        },
        "id": "gxX8JuZezX3p",
        "outputId": "272f8bdf-1b22-4778-f24f-883c16c97545"
      },
      "source": [
        "matrix2=tf.constant([[1.,2.],[3.,4.]],dtype=tf.float16)\n",
        "matrix2"
      ],
      "execution_count": null,
      "outputs": [
        {
          "output_type": "execute_result",
          "data": {
            "text/plain": [
              "<tf.Tensor: shape=(2, 2), dtype=float16, numpy=\n",
              "array([[1., 2.],\n",
              "       [3., 4.]], dtype=float16)>"
            ]
          },
          "metadata": {},
          "execution_count": 9
        }
      ]
    },
    {
      "cell_type": "code",
      "metadata": {
        "colab": {
          "base_uri": "https://localhost:8080/"
        },
        "id": "Ihm6c74Q2BHW",
        "outputId": "2b27db69-3706-451d-9408-2d87c31950b6"
      },
      "source": [
        "#create a tensor\n",
        "tensor=tf.constant([[[1,1,1],\n",
        "                     [2,2,2],\n",
        "                     [3,3,3]],[[3,2,1],[4,3,1],[4,8,9]]])\n",
        "tensor"
      ],
      "execution_count": null,
      "outputs": [
        {
          "output_type": "execute_result",
          "data": {
            "text/plain": [
              "<tf.Tensor: shape=(2, 3, 3), dtype=int32, numpy=\n",
              "array([[[1, 1, 1],\n",
              "        [2, 2, 2],\n",
              "        [3, 3, 3]],\n",
              "\n",
              "       [[3, 2, 1],\n",
              "        [4, 3, 1],\n",
              "        [4, 8, 9]]], dtype=int32)>"
            ]
          },
          "metadata": {},
          "execution_count": 10
        }
      ]
    },
    {
      "cell_type": "code",
      "metadata": {
        "colab": {
          "base_uri": "https://localhost:8080/"
        },
        "id": "ccdXWRpU3e34",
        "outputId": "cdb3af45-e560-4818-805d-5f6dc790c4ab"
      },
      "source": [
        "tensor.ndim"
      ],
      "execution_count": null,
      "outputs": [
        {
          "output_type": "execute_result",
          "data": {
            "text/plain": [
              "3"
            ]
          },
          "metadata": {},
          "execution_count": 11
        }
      ]
    },
    {
      "cell_type": "code",
      "metadata": {
        "colab": {
          "base_uri": "https://localhost:8080/"
        },
        "id": "VHrNBBs23rH_",
        "outputId": "c42c5eca-209b-4f84-f7c2-eeee17508fdd"
      },
      "source": [
        "#Creating tensors with Variable\n",
        "tensor2=tf.Variable([1,1])\n",
        "tensor2"
      ],
      "execution_count": null,
      "outputs": [
        {
          "output_type": "execute_result",
          "data": {
            "text/plain": [
              "<tf.Variable 'Variable:0' shape=(2,) dtype=int32, numpy=array([1, 1], dtype=int32)>"
            ]
          },
          "metadata": {},
          "execution_count": 12
        }
      ]
    },
    {
      "cell_type": "code",
      "metadata": {
        "colab": {
          "base_uri": "https://localhost:8080/"
        },
        "id": "Rntg7g0r4wYA",
        "outputId": "ce0d57e8-b83b-4a96-e271-04c549f1b9b6"
      },
      "source": [
        "#change variable in mutable tensor made using Variable()\n",
        "tensor2[0].assign(8)\n",
        "tensor2"
      ],
      "execution_count": null,
      "outputs": [
        {
          "output_type": "execute_result",
          "data": {
            "text/plain": [
              "<tf.Variable 'Variable:0' shape=(2,) dtype=int32, numpy=array([8, 1], dtype=int32)>"
            ]
          },
          "metadata": {},
          "execution_count": 13
        }
      ]
    },
    {
      "cell_type": "code",
      "metadata": {
        "colab": {
          "base_uri": "https://localhost:8080/"
        },
        "id": "5u64xkRFM22C",
        "outputId": "0614c942-2c39-4ff9-811f-48ad19c8c9f2"
      },
      "source": [
        "#create random tensor\n",
        "r1=tf.random.Generator.from_seed(40)\n",
        "r1=r1.normal(shape=(2,2))\n",
        "r2=tf.random.Generator.from_seed(9)\n",
        "r2=r2.normal(shape=(2,2))\n",
        "r3=tf.random.Generator.from_seed(40)\n",
        "r3=r3.normal(shape=(3,2))\n",
        "r1==r3# same seed and shape produces same tensor\n",
        "r3"
      ],
      "execution_count": null,
      "outputs": [
        {
          "output_type": "execute_result",
          "data": {
            "text/plain": [
              "<tf.Tensor: shape=(3, 2), dtype=float32, numpy=\n",
              "array([[ 0.78953624,  0.53897345],\n",
              "       [-0.48535708,  0.74055266],\n",
              "       [ 0.31662667, -1.4391748 ]], dtype=float32)>"
            ]
          },
          "metadata": {},
          "execution_count": 14
        }
      ]
    },
    {
      "cell_type": "code",
      "metadata": {
        "id": "Rq7pAdmlOy4f",
        "colab": {
          "base_uri": "https://localhost:8080/"
        },
        "outputId": "b057d180-ef7d-4f42-e16c-2ab005c4160b"
      },
      "source": [
        "#shuffle the order of elements in a tensor\n",
        "tf.random.shuffle(r3)"
      ],
      "execution_count": null,
      "outputs": [
        {
          "output_type": "execute_result",
          "data": {
            "text/plain": [
              "<tf.Tensor: shape=(3, 2), dtype=float32, numpy=\n",
              "array([[-0.48535708,  0.74055266],\n",
              "       [ 0.78953624,  0.53897345],\n",
              "       [ 0.31662667, -1.4391748 ]], dtype=float32)>"
            ]
          },
          "metadata": {},
          "execution_count": 15
        }
      ]
    },
    {
      "cell_type": "code",
      "metadata": {
        "colab": {
          "base_uri": "https://localhost:8080/"
        },
        "id": "8Hbp0df7qPrj",
        "outputId": "80fdeded-0cf1-4949-bbbe-e3d5f795d063"
      },
      "source": [
        "r3\n",
        "tf.random.shuffle(r3)"
      ],
      "execution_count": null,
      "outputs": [
        {
          "output_type": "execute_result",
          "data": {
            "text/plain": [
              "<tf.Tensor: shape=(3, 2), dtype=float32, numpy=\n",
              "array([[ 0.31662667, -1.4391748 ],\n",
              "       [ 0.78953624,  0.53897345],\n",
              "       [-0.48535708,  0.74055266]], dtype=float32)>"
            ]
          },
          "metadata": {},
          "execution_count": 16
        }
      ]
    },
    {
      "cell_type": "code",
      "metadata": {
        "colab": {
          "base_uri": "https://localhost:8080/"
        },
        "id": "kC6PDSYbtl5I",
        "outputId": "d001d3c4-8de6-4c63-e890-98631e57ab0e"
      },
      "source": [
        "tf.random.set_seed(40)#global level random seed fixes the order\n",
        "tf.random.shuffle(r3)#operation level random seed"
      ],
      "execution_count": null,
      "outputs": [
        {
          "output_type": "execute_result",
          "data": {
            "text/plain": [
              "<tf.Tensor: shape=(3, 2), dtype=float32, numpy=\n",
              "array([[-0.48535708,  0.74055266],\n",
              "       [ 0.78953624,  0.53897345],\n",
              "       [ 0.31662667, -1.4391748 ]], dtype=float32)>"
            ]
          },
          "metadata": {},
          "execution_count": 17
        }
      ]
    },
    {
      "cell_type": "code",
      "metadata": {
        "colab": {
          "base_uri": "https://localhost:8080/"
        },
        "id": "vZwCkphltsAp",
        "outputId": "fbf72556-5eff-4537-ea35-ddd5f30efa97"
      },
      "source": [
        "\n",
        "tf.ones([10,7])\n",
        "tf.zeros([2,3])"
      ],
      "execution_count": null,
      "outputs": [
        {
          "output_type": "execute_result",
          "data": {
            "text/plain": [
              "<tf.Tensor: shape=(2, 3), dtype=float32, numpy=\n",
              "array([[0., 0., 0.],\n",
              "       [0., 0., 0.]], dtype=float32)>"
            ]
          },
          "metadata": {},
          "execution_count": 18
        }
      ]
    },
    {
      "cell_type": "code",
      "metadata": {
        "colab": {
          "base_uri": "https://localhost:8080/"
        },
        "id": "AxDBdgyzwf4z",
        "outputId": "695b0e91-a40a-49d6-80cf-191dd5fac323"
      },
      "source": [
        "#using numpy\n",
        "import numpy as np\n",
        "A=np.arange(1,50)\n",
        "A\n",
        "tf.constant(A,shape=(7,1,7))"
      ],
      "execution_count": null,
      "outputs": [
        {
          "output_type": "execute_result",
          "data": {
            "text/plain": [
              "<tf.Tensor: shape=(7, 1, 7), dtype=int64, numpy=\n",
              "array([[[ 1,  2,  3,  4,  5,  6,  7]],\n",
              "\n",
              "       [[ 8,  9, 10, 11, 12, 13, 14]],\n",
              "\n",
              "       [[15, 16, 17, 18, 19, 20, 21]],\n",
              "\n",
              "       [[22, 23, 24, 25, 26, 27, 28]],\n",
              "\n",
              "       [[29, 30, 31, 32, 33, 34, 35]],\n",
              "\n",
              "       [[36, 37, 38, 39, 40, 41, 42]],\n",
              "\n",
              "       [[43, 44, 45, 46, 47, 48, 49]]])>"
            ]
          },
          "metadata": {},
          "execution_count": 19
        }
      ]
    },
    {
      "cell_type": "code",
      "metadata": {
        "id": "qrS0meNbx18H",
        "colab": {
          "base_uri": "https://localhost:8080/"
        },
        "outputId": "f818143c-5546-42ee-c53d-2b07fc583cbf"
      },
      "source": [
        "#getting info from tensors\n",
        "r4t=tf.zeros([1,2,3,4])\n",
        "r4t\n"
      ],
      "execution_count": null,
      "outputs": [
        {
          "output_type": "execute_result",
          "data": {
            "text/plain": [
              "<tf.Tensor: shape=(1, 2, 3, 4), dtype=float32, numpy=\n",
              "array([[[[0., 0., 0., 0.],\n",
              "         [0., 0., 0., 0.],\n",
              "         [0., 0., 0., 0.]],\n",
              "\n",
              "        [[0., 0., 0., 0.],\n",
              "         [0., 0., 0., 0.],\n",
              "         [0., 0., 0., 0.]]]], dtype=float32)>"
            ]
          },
          "metadata": {},
          "execution_count": 20
        }
      ]
    },
    {
      "cell_type": "code",
      "metadata": {
        "colab": {
          "base_uri": "https://localhost:8080/"
        },
        "id": "qz506Xhu-xP-",
        "outputId": "bde2fa60-d3d6-4e10-f93d-967dd01912f0"
      },
      "source": [
        "r4t[0]"
      ],
      "execution_count": null,
      "outputs": [
        {
          "output_type": "execute_result",
          "data": {
            "text/plain": [
              "<tf.Tensor: shape=(2, 3, 4), dtype=float32, numpy=\n",
              "array([[[0., 0., 0., 0.],\n",
              "        [0., 0., 0., 0.],\n",
              "        [0., 0., 0., 0.]],\n",
              "\n",
              "       [[0., 0., 0., 0.],\n",
              "        [0., 0., 0., 0.],\n",
              "        [0., 0., 0., 0.]]], dtype=float32)>"
            ]
          },
          "metadata": {},
          "execution_count": 21
        }
      ]
    },
    {
      "cell_type": "code",
      "metadata": {
        "colab": {
          "base_uri": "https://localhost:8080/"
        },
        "id": "Rdw3uPCg-3t8",
        "outputId": "2e057a8f-2b84-4223-a6b8-cf00e9146d9c"
      },
      "source": [
        "r4t[:,1]"
      ],
      "execution_count": null,
      "outputs": [
        {
          "output_type": "execute_result",
          "data": {
            "text/plain": [
              "<tf.Tensor: shape=(1, 3, 4), dtype=float32, numpy=\n",
              "array([[[0., 0., 0., 0.],\n",
              "        [0., 0., 0., 0.],\n",
              "        [0., 0., 0., 0.]]], dtype=float32)>"
            ]
          },
          "metadata": {},
          "execution_count": 22
        }
      ]
    },
    {
      "cell_type": "code",
      "metadata": {
        "colab": {
          "base_uri": "https://localhost:8080/"
        },
        "id": "B9WSDyE6-5gV",
        "outputId": "7aaacff6-c60c-44c1-9070-1729f448f9a6"
      },
      "source": [
        "r4t[:,:,1]"
      ],
      "execution_count": null,
      "outputs": [
        {
          "output_type": "execute_result",
          "data": {
            "text/plain": [
              "<tf.Tensor: shape=(1, 2, 4), dtype=float32, numpy=\n",
              "array([[[0., 0., 0., 0.],\n",
              "        [0., 0., 0., 0.]]], dtype=float32)>"
            ]
          },
          "metadata": {},
          "execution_count": 23
        }
      ]
    },
    {
      "cell_type": "code",
      "metadata": {
        "colab": {
          "base_uri": "https://localhost:8080/"
        },
        "id": "8fF0T58X_Fm6",
        "outputId": "d6c76613-5f8a-4444-bd2d-b9415089467e"
      },
      "source": [
        "r4t[:,:,:,0]\n",
        "tf.size(r4t).numpy()"
      ],
      "execution_count": null,
      "outputs": [
        {
          "output_type": "execute_result",
          "data": {
            "text/plain": [
              "24"
            ]
          },
          "metadata": {},
          "execution_count": 24
        }
      ]
    },
    {
      "cell_type": "code",
      "metadata": {
        "id": "l7b1EJjQ_ysW",
        "colab": {
          "base_uri": "https://localhost:8080/"
        },
        "outputId": "7049f4f1-e69c-41a4-8d67-f336f7d218fc"
      },
      "source": [
        "#indexing tensors\n",
        "r4t[:2,:2,:2,:2]#getting first 2 elements from each dimension"
      ],
      "execution_count": null,
      "outputs": [
        {
          "output_type": "execute_result",
          "data": {
            "text/plain": [
              "<tf.Tensor: shape=(1, 2, 2, 2), dtype=float32, numpy=\n",
              "array([[[[0., 0.],\n",
              "         [0., 0.]],\n",
              "\n",
              "        [[0., 0.],\n",
              "         [0., 0.]]]], dtype=float32)>"
            ]
          },
          "metadata": {},
          "execution_count": 25
        }
      ]
    },
    {
      "cell_type": "code",
      "metadata": {
        "colab": {
          "base_uri": "https://localhost:8080/"
        },
        "id": "Cxqdxc3nq5vc",
        "outputId": "336dbc21-4b1a-4cca-f6e2-96913da5d63c"
      },
      "source": [
        "#get the first element of every index except the last dimension\n",
        "r4t[:1,:1,:1].numpy()"
      ],
      "execution_count": null,
      "outputs": [
        {
          "output_type": "execute_result",
          "data": {
            "text/plain": [
              "array([[[[0., 0., 0., 0.]]]], dtype=float32)"
            ]
          },
          "metadata": {},
          "execution_count": 26
        }
      ]
    },
    {
      "cell_type": "code",
      "metadata": {
        "colab": {
          "base_uri": "https://localhost:8080/"
        },
        "id": "HtAuznForehO",
        "outputId": "c21a1760-92ce-4aea-dd43-1334e78c44ca"
      },
      "source": [
        "#expanding a tensor\n",
        "r2t=tf.constant([[10,7],[5,6]])\n",
        "r2t.ndim"
      ],
      "execution_count": null,
      "outputs": [
        {
          "output_type": "execute_result",
          "data": {
            "text/plain": [
              "2"
            ]
          },
          "metadata": {},
          "execution_count": 27
        }
      ]
    },
    {
      "cell_type": "code",
      "metadata": {
        "colab": {
          "base_uri": "https://localhost:8080/"
        },
        "id": "H0c6EC0Lr_kI",
        "outputId": "4b780fc8-8d93-4004-89bf-bba25d563546"
      },
      "source": [
        "#get last item from each row\n",
        "r2t[:,-1]"
      ],
      "execution_count": null,
      "outputs": [
        {
          "output_type": "execute_result",
          "data": {
            "text/plain": [
              "<tf.Tensor: shape=(2,), dtype=int32, numpy=array([7, 6], dtype=int32)>"
            ]
          },
          "metadata": {},
          "execution_count": 28
        }
      ]
    },
    {
      "cell_type": "code",
      "metadata": {
        "colab": {
          "base_uri": "https://localhost:8080/"
        },
        "id": "SCmkiJYWsd03",
        "outputId": "bab1eff8-bcd7-4bdd-dd85-d56f17e2dfa3"
      },
      "source": [
        "#expanding a tensor\n",
        "r3t=r2t[...,tf.newaxis]\n",
        "r3t"
      ],
      "execution_count": null,
      "outputs": [
        {
          "output_type": "execute_result",
          "data": {
            "text/plain": [
              "<tf.Tensor: shape=(2, 2, 1), dtype=int32, numpy=\n",
              "array([[[10],\n",
              "        [ 7]],\n",
              "\n",
              "       [[ 5],\n",
              "        [ 6]]], dtype=int32)>"
            ]
          },
          "metadata": {},
          "execution_count": 29
        }
      ]
    },
    {
      "cell_type": "code",
      "metadata": {
        "colab": {
          "base_uri": "https://localhost:8080/"
        },
        "id": "7730S4V0tXEI",
        "outputId": "8a531df9-506d-41e9-be6a-61047fe287a2"
      },
      "source": [
        "tf.expand_dims(r2t,axis=-1)#expand last axis"
      ],
      "execution_count": null,
      "outputs": [
        {
          "output_type": "execute_result",
          "data": {
            "text/plain": [
              "<tf.Tensor: shape=(2, 2, 1), dtype=int32, numpy=\n",
              "array([[[10],\n",
              "        [ 7]],\n",
              "\n",
              "       [[ 5],\n",
              "        [ 6]]], dtype=int32)>"
            ]
          },
          "metadata": {},
          "execution_count": 30
        }
      ]
    },
    {
      "cell_type": "code",
      "metadata": {
        "colab": {
          "base_uri": "https://localhost:8080/"
        },
        "id": "5thsch9UuGh7",
        "outputId": "1fba5898-e606-443d-decb-b9fb353b3dda"
      },
      "source": [
        "#manipulating tensors\n",
        "r2t+20\n",
        "tf.add(r2t,20)#faster"
      ],
      "execution_count": null,
      "outputs": [
        {
          "output_type": "execute_result",
          "data": {
            "text/plain": [
              "<tf.Tensor: shape=(2, 2), dtype=int32, numpy=\n",
              "array([[30, 27],\n",
              "       [25, 26]], dtype=int32)>"
            ]
          },
          "metadata": {},
          "execution_count": 31
        }
      ]
    },
    {
      "cell_type": "code",
      "metadata": {
        "colab": {
          "base_uri": "https://localhost:8080/"
        },
        "id": "XUT6FtJfwNUm",
        "outputId": "b0fd7a18-8493-420f-8f20-3b0e839c2ccf"
      },
      "source": [
        "r2t*7\n",
        "tf.multiply(r2t,7)#faster"
      ],
      "execution_count": null,
      "outputs": [
        {
          "output_type": "execute_result",
          "data": {
            "text/plain": [
              "<tf.Tensor: shape=(2, 2), dtype=int32, numpy=\n",
              "array([[70, 49],\n",
              "       [35, 42]], dtype=int32)>"
            ]
          },
          "metadata": {},
          "execution_count": 32
        }
      ]
    },
    {
      "cell_type": "code",
      "metadata": {
        "id": "2T3Tybp6w_zu",
        "colab": {
          "base_uri": "https://localhost:8080/"
        },
        "outputId": "54d39c8c-6c5d-4ea2-9755-b6679005ae27"
      },
      "source": [
        "#matrix multiplication\n",
        "a=tf.constant([[1,1,1],[2,1,3],[5,1,7]])\n",
        "b=tf.constant([[1,2],[2,0],[0,1]])\n",
        "print(\"a*b is\\n\",tf.matmul(a,b).numpy())\n",
        "print(\"a*b is\\n\",a@b)\n"
      ],
      "execution_count": null,
      "outputs": [
        {
          "output_type": "stream",
          "name": "stdout",
          "text": [
            "a*b is\n",
            " [[ 3  3]\n",
            " [ 4  7]\n",
            " [ 7 17]]\n",
            "a*b is\n",
            " tf.Tensor(\n",
            "[[ 3  3]\n",
            " [ 4  7]\n",
            " [ 7 17]], shape=(3, 2), dtype=int32)\n"
          ]
        }
      ]
    },
    {
      "cell_type": "code",
      "metadata": {
        "colab": {
          "base_uri": "https://localhost:8080/"
        },
        "id": "vEAEp8YWLg18",
        "outputId": "8d25c4b9-b411-4182-e181-c7b1b31871c9"
      },
      "source": [
        "x=tf.constant([[1,2,3],[3,4,5],[6,7,8]])\n",
        "y=tf.constant([[1,2,3],[3,4,5]])\n",
        "yr=tf.reshape(y,(3,2))\n",
        "yt=tf.transpose(y)\n",
        "print(\"y reshaped\",yr.numpy())\n",
        "print(\"y transpose\",yt.numpy())\n",
        "\n",
        "print(\"using reshape\",tf.matmul(x,yr).numpy())\n",
        "print(\"using transpose\",tf.matmul(x,yt).numpy())\n",
        "\n"
      ],
      "execution_count": null,
      "outputs": [
        {
          "output_type": "stream",
          "name": "stdout",
          "text": [
            "y reshaped [[1 2]\n",
            " [3 3]\n",
            " [4 5]]\n",
            "y transpose [[1 3]\n",
            " [2 4]\n",
            " [3 5]]\n",
            "using reshape [[19 23]\n",
            " [35 43]\n",
            " [59 73]]\n",
            "using transpose [[14 26]\n",
            " [26 50]\n",
            " [44 86]]\n"
          ]
        }
      ]
    },
    {
      "cell_type": "code",
      "metadata": {
        "colab": {
          "base_uri": "https://localhost:8080/"
        },
        "id": "_rVQ_-AgT1mB",
        "outputId": "6ecce9d6-955d-4a8d-ae23-7006aef21cac"
      },
      "source": [
        "#changing datatype of a tensor\n",
        "d=tf.constant([[1.2,3.4],[2,6]])\n",
        "print(\"initially\",d.dtype)\n",
        "d=tf.cast(d,tf.float16)\n",
        "print(\"after changing\",d.dtype)#float16 can run faster"
      ],
      "execution_count": null,
      "outputs": [
        {
          "output_type": "stream",
          "name": "stdout",
          "text": [
            "initially <dtype: 'float32'>\n",
            "after changing <dtype: 'float16'>\n"
          ]
        }
      ]
    },
    {
      "cell_type": "code",
      "metadata": {
        "id": "gzp9FfkQWG3-",
        "colab": {
          "base_uri": "https://localhost:8080/"
        },
        "outputId": "0128593d-9dd3-4842-ddce-165883e6bcd2"
      },
      "source": [
        "#Aggregating tensors\n",
        "e=tf.constant([-10,5])\n",
        "tf.abs(e) #absolute value\n"
      ],
      "execution_count": null,
      "outputs": [
        {
          "output_type": "execute_result",
          "data": {
            "text/plain": [
              "<tf.Tensor: shape=(2,), dtype=int32, numpy=array([10,  5], dtype=int32)>"
            ]
          },
          "metadata": {},
          "execution_count": 36
        }
      ]
    },
    {
      "cell_type": "code",
      "metadata": {
        "colab": {
          "base_uri": "https://localhost:8080/"
        },
        "id": "iN8uVsnI0c2p",
        "outputId": "f9110994-86b4-4c92-b864-f9e8a57dd9e8"
      },
      "source": [
        "s=tf.random.Generator.from_seed(10)\n",
        "s=s.normal(shape=(3,3))\n",
        "s"
      ],
      "execution_count": null,
      "outputs": [
        {
          "output_type": "execute_result",
          "data": {
            "text/plain": [
              "<tf.Tensor: shape=(3, 3), dtype=float32, numpy=\n",
              "array([[-0.29604465, -0.21134205,  0.01063002],\n",
              "       [ 1.5165398 ,  0.27305737, -0.29925638],\n",
              "       [-0.3652325 ,  0.61883307, -1.0130816 ]], dtype=float32)>"
            ]
          },
          "metadata": {},
          "execution_count": 37
        }
      ]
    },
    {
      "cell_type": "code",
      "metadata": {
        "colab": {
          "base_uri": "https://localhost:8080/"
        },
        "id": "eVE-gYxD1JwX",
        "outputId": "b0a94a6a-83b9-4d7e-b411-89869b0ec991"
      },
      "source": [
        "#find min value\n",
        "min=tf.math.reduce_min(s)\n",
        "min.numpy()#minimum of whole matrix\n",
        "mincol=tf.math.reduce_min(s,axis=0)#minimum in each column\n",
        "mincol.numpy()"
      ],
      "execution_count": null,
      "outputs": [
        {
          "output_type": "execute_result",
          "data": {
            "text/plain": [
              "array([-0.3652325 , -0.21134205, -1.0130816 ], dtype=float32)"
            ]
          },
          "metadata": {},
          "execution_count": 38
        }
      ]
    },
    {
      "cell_type": "code",
      "metadata": {
        "colab": {
          "base_uri": "https://localhost:8080/"
        },
        "id": "IHcxczm81_bm",
        "outputId": "840df048-6964-4a7d-d3ad-f8c7728c9c42"
      },
      "source": [
        "#find max value\n",
        "max=tf.math.reduce_max(s)\n",
        "max.numpy()#max of whole matrix\n",
        "maxrow=tf.math.reduce_max(s,axis=1)#max in each row\n",
        "maxrow.numpy()"
      ],
      "execution_count": null,
      "outputs": [
        {
          "output_type": "execute_result",
          "data": {
            "text/plain": [
              "array([0.01063002, 1.5165398 , 0.61883307], dtype=float32)"
            ]
          },
          "metadata": {},
          "execution_count": 39
        }
      ]
    },
    {
      "cell_type": "code",
      "metadata": {
        "colab": {
          "base_uri": "https://localhost:8080/"
        },
        "id": "PibjWGCT2s92",
        "outputId": "a196a958-7998-459d-b1b8-c3f645d0cf7c"
      },
      "source": [
        "#find mean of tensor\n",
        "mean=tf.math.reduce_mean(s)\n",
        "print(mean.numpy())#mean of whole matrix\n",
        "meancol=tf.math.reduce_mean(s,axis=0)#mean of each col\n",
        "meancol.numpy()"
      ],
      "execution_count": null,
      "outputs": [
        {
          "output_type": "stream",
          "name": "stdout",
          "text": [
            "0.026011467\n"
          ]
        },
        {
          "output_type": "execute_result",
          "data": {
            "text/plain": [
              "array([ 0.2850876 ,  0.22684945, -0.43390265], dtype=float32)"
            ]
          },
          "metadata": {},
          "execution_count": 40
        }
      ]
    },
    {
      "cell_type": "code",
      "metadata": {
        "colab": {
          "base_uri": "https://localhost:8080/"
        },
        "id": "B4BQ-LYX3Nqk",
        "outputId": "2fc2308c-17a4-44e7-b8be-e4874fae6021"
      },
      "source": [
        "#find sum of tensor\n",
        "sum=tf.math.reduce_sum(s)\n",
        "print(sum.numpy())#sum of whole matrix\n",
        "sumrow=tf.math.reduce_sum(s,axis=1)#sum of each row\n",
        "sumrow.numpy()"
      ],
      "execution_count": null,
      "outputs": [
        {
          "output_type": "stream",
          "name": "stdout",
          "text": [
            "0.2341032\n"
          ]
        },
        {
          "output_type": "execute_result",
          "data": {
            "text/plain": [
              "array([-0.49675667,  1.4903407 , -0.75948095], dtype=float32)"
            ]
          },
          "metadata": {},
          "execution_count": 41
        }
      ]
    },
    {
      "cell_type": "code",
      "metadata": {
        "id": "IGSjOZzN3k9t"
      },
      "source": [
        "#finding position of max value\n",
        "maxi=tf.argmax(s,axis=1)# max value indices of each row\n",
        "\n"
      ],
      "execution_count": null,
      "outputs": []
    },
    {
      "cell_type": "code",
      "metadata": {
        "colab": {
          "base_uri": "https://localhost:8080/"
        },
        "id": "-jxRItTVKnqh",
        "outputId": "d18bd5cd-9a48-40f4-a701-63943baee7f4"
      },
      "source": [
        "#squeezing a tensor\n",
        "m=tf.constant(tf.random.uniform(shape=[50]),shape=(1,1,1,1,50))\n",
        "m"
      ],
      "execution_count": null,
      "outputs": [
        {
          "output_type": "execute_result",
          "data": {
            "text/plain": [
              "<tf.Tensor: shape=(1, 1, 1, 1, 50), dtype=float32, numpy=\n",
              "array([[[[[0.74675906, 0.24612856, 0.52820086, 0.8276756 , 0.6183318 ,\n",
              "           0.0846777 , 0.13903832, 0.04563856, 0.6154578 , 0.44305432,\n",
              "           0.7431537 , 0.9795221 , 0.54386437, 0.21016955, 0.24788725,\n",
              "           0.35024524, 0.03533351, 0.65845823, 0.24004912, 0.1725409 ,\n",
              "           0.22278512, 0.2606182 , 0.37575412, 0.9490981 , 0.3538996 ,\n",
              "           0.4968046 , 0.18215156, 0.87830687, 0.08035612, 0.9584689 ,\n",
              "           0.11927223, 0.48161948, 0.46814215, 0.26376808, 0.33337045,\n",
              "           0.9157454 , 0.8242643 , 0.00191033, 0.2706449 , 0.75256467,\n",
              "           0.07479346, 0.25697482, 0.10337758, 0.5379051 , 0.2707088 ,\n",
              "           0.02460349, 0.06105328, 0.42337906, 0.30669105, 0.30637336]]]]],\n",
              "      dtype=float32)>"
            ]
          },
          "metadata": {},
          "execution_count": 43
        }
      ]
    },
    {
      "cell_type": "code",
      "metadata": {
        "colab": {
          "base_uri": "https://localhost:8080/"
        },
        "id": "o1_rcs8mMBzP",
        "outputId": "e602e192-a8da-4fc1-c1b0-8d43c646969b"
      },
      "source": [
        "msq=tf.squeeze(m)#removes dimensions with value 1 from tensor\n",
        "msq,msq.shape"
      ],
      "execution_count": null,
      "outputs": [
        {
          "output_type": "execute_result",
          "data": {
            "text/plain": [
              "(<tf.Tensor: shape=(50,), dtype=float32, numpy=\n",
              " array([0.74675906, 0.24612856, 0.52820086, 0.8276756 , 0.6183318 ,\n",
              "        0.0846777 , 0.13903832, 0.04563856, 0.6154578 , 0.44305432,\n",
              "        0.7431537 , 0.9795221 , 0.54386437, 0.21016955, 0.24788725,\n",
              "        0.35024524, 0.03533351, 0.65845823, 0.24004912, 0.1725409 ,\n",
              "        0.22278512, 0.2606182 , 0.37575412, 0.9490981 , 0.3538996 ,\n",
              "        0.4968046 , 0.18215156, 0.87830687, 0.08035612, 0.9584689 ,\n",
              "        0.11927223, 0.48161948, 0.46814215, 0.26376808, 0.33337045,\n",
              "        0.9157454 , 0.8242643 , 0.00191033, 0.2706449 , 0.75256467,\n",
              "        0.07479346, 0.25697482, 0.10337758, 0.5379051 , 0.2707088 ,\n",
              "        0.02460349, 0.06105328, 0.42337906, 0.30669105, 0.30637336],\n",
              "       dtype=float32)>, TensorShape([50]))"
            ]
          },
          "metadata": {},
          "execution_count": 44
        }
      ]
    },
    {
      "cell_type": "code",
      "metadata": {
        "id": "_THBMOkoMYFW",
        "colab": {
          "base_uri": "https://localhost:8080/"
        },
        "outputId": "02b6c6da-1a79-47df-ed4d-6149ab62414c"
      },
      "source": [
        "#One hot encoding\n",
        "l=[0,1,2,3]\n",
        "tf.one_hot(l,depth=4)\n",
        "\n"
      ],
      "execution_count": null,
      "outputs": [
        {
          "output_type": "execute_result",
          "data": {
            "text/plain": [
              "<tf.Tensor: shape=(4, 4), dtype=float32, numpy=\n",
              "array([[1., 0., 0., 0.],\n",
              "       [0., 1., 0., 0.],\n",
              "       [0., 0., 1., 0.],\n",
              "       [0., 0., 0., 1.]], dtype=float32)>"
            ]
          },
          "metadata": {},
          "execution_count": 45
        }
      ]
    },
    {
      "cell_type": "code",
      "metadata": {
        "colab": {
          "base_uri": "https://localhost:8080/"
        },
        "id": "Z3wsi5jzNtzV",
        "outputId": "168c2588-4dac-47ea-b888-fa0bfd1a174a"
      },
      "source": [
        "l=[0,1,1,7]\n",
        "tf.one_hot(l,depth=8)"
      ],
      "execution_count": null,
      "outputs": [
        {
          "output_type": "execute_result",
          "data": {
            "text/plain": [
              "<tf.Tensor: shape=(4, 8), dtype=float32, numpy=\n",
              "array([[1., 0., 0., 0., 0., 0., 0., 0.],\n",
              "       [0., 1., 0., 0., 0., 0., 0., 0.],\n",
              "       [0., 1., 0., 0., 0., 0., 0., 0.],\n",
              "       [0., 0., 0., 0., 0., 0., 0., 1.]], dtype=float32)>"
            ]
          },
          "metadata": {},
          "execution_count": 46
        }
      ]
    },
    {
      "cell_type": "code",
      "metadata": {
        "id": "Qq3fCPloN126",
        "colab": {
          "base_uri": "https://localhost:8080/"
        },
        "outputId": "4ec260fc-8b9c-44ab-e2f1-f818980db5fe"
      },
      "source": [
        "#more math operations\n",
        "ma=tf.range(1,10)\n",
        "tf.square(ma)"
      ],
      "execution_count": null,
      "outputs": [
        {
          "output_type": "execute_result",
          "data": {
            "text/plain": [
              "<tf.Tensor: shape=(9,), dtype=int32, numpy=array([ 1,  4,  9, 16, 25, 36, 49, 64, 81], dtype=int32)>"
            ]
          },
          "metadata": {},
          "execution_count": 47
        }
      ]
    },
    {
      "cell_type": "code",
      "metadata": {
        "colab": {
          "base_uri": "https://localhost:8080/"
        },
        "id": "SNG3azYh8QKp",
        "outputId": "15cc1c80-1a4c-4055-e752-16171ee36bea"
      },
      "source": [
        "tf.sqrt(tf.cast(ma,dtype=float))"
      ],
      "execution_count": null,
      "outputs": [
        {
          "output_type": "execute_result",
          "data": {
            "text/plain": [
              "<tf.Tensor: shape=(9,), dtype=float32, numpy=\n",
              "array([0.99999994, 1.4142134 , 1.7320508 , 1.9999999 , 2.236068  ,\n",
              "       2.4494896 , 2.6457512 , 2.8284268 , 3.        ], dtype=float32)>"
            ]
          },
          "metadata": {},
          "execution_count": 49
        }
      ]
    },
    {
      "cell_type": "code",
      "metadata": {
        "colab": {
          "base_uri": "https://localhost:8080/"
        },
        "id": "SKoZtTbz8muf",
        "outputId": "8c4882ac-2e35-46fa-e990-59fe68764200"
      },
      "source": [
        "tf.math.log(tf.cast(ma,dtype=float))"
      ],
      "execution_count": null,
      "outputs": [
        {
          "output_type": "execute_result",
          "data": {
            "text/plain": [
              "<tf.Tensor: shape=(9,), dtype=float32, numpy=\n",
              "array([0.       , 0.6931472, 1.0986123, 1.3862944, 1.609438 , 1.7917595,\n",
              "       1.9459102, 2.0794415, 2.1972246], dtype=float32)>"
            ]
          },
          "metadata": {},
          "execution_count": 54
        }
      ]
    },
    {
      "cell_type": "code",
      "metadata": {
        "colab": {
          "base_uri": "https://localhost:8080/"
        },
        "id": "PeLr6jJN9BrB",
        "outputId": "01971a4f-107d-452b-dead-b9f6cfe99fd6"
      },
      "source": [
        "#using tf thru np\n",
        "num=tf.constant(np.array([3,5,7,9]))\n",
        "num.numpy()\n",
        "num.dtype\n"
      ],
      "execution_count": null,
      "outputs": [
        {
          "output_type": "execute_result",
          "data": {
            "text/plain": [
              "tf.int64"
            ]
          },
          "metadata": {},
          "execution_count": 60
        }
      ]
    },
    {
      "cell_type": "code",
      "metadata": {
        "colab": {
          "base_uri": "https://localhost:8080/"
        },
        "id": "h_T6CI83-B0G",
        "outputId": "378bb038-5553-4c29-cced-b40bbebb4235"
      },
      "source": [
        "r3t.dtype #different from numpy tensor"
      ],
      "execution_count": null,
      "outputs": [
        {
          "output_type": "execute_result",
          "data": {
            "text/plain": [
              "tf.int32"
            ]
          },
          "metadata": {},
          "execution_count": 62
        }
      ]
    },
    {
      "cell_type": "code",
      "metadata": {
        "id": "CrVyiuH4-d-t"
      },
      "source": [
        ""
      ],
      "execution_count": null,
      "outputs": []
    }
  ]
}